{
  "nbformat": 4,
  "nbformat_minor": 0,
  "metadata": {
    "colab": {
      "provenance": [],
      "authorship_tag": "ABX9TyOX/2wRSwtPtQ1QN1GWCOvA",
      "include_colab_link": true
    },
    "kernelspec": {
      "name": "python3",
      "display_name": "Python 3"
    },
    "language_info": {
      "name": "python"
    }
  },
  "cells": [
    {
      "cell_type": "markdown",
      "metadata": {
        "id": "view-in-github",
        "colab_type": "text"
      },
      "source": [
        "<a href=\"https://colab.research.google.com/github/axwf/stable-fast-3d-colab/blob/main/stable_fast_3d_colab.ipynb\" target=\"_parent\"><img src=\"https://colab.research.google.com/assets/colab-badge.svg\" alt=\"Open In Colab\"/></a>"
      ]
    },
    {
      "cell_type": "code",
      "execution_count": null,
      "metadata": {
        "id": "I0dHv3iMexV7"
      },
      "outputs": [],
      "source": [
        "!git clone https://github.com/Stability-AI/stable-fast-3d.git\n",
        "%cd /content/stable-fast-3d\n",
        "\n",
        "!pip3 install torch torchvision torchaudio --index-url https://download.pytorch.org/whl/cu124\n",
        "\n",
        "!pip install -U setuptools==69.5.1\n",
        "!pip install wheel\n",
        "\n",
        "!pip install -r requirements.txt\n",
        "!pip install -r requirements-demo.txt\n",
        "\n",
        "!python gradio_app.py"
      ]
    },
    {
      "cell_type": "code",
      "source": [
        "!python run.py [replace with path to image] --output-dir /content/"
      ],
      "metadata": {
        "id": "x2w26ylQihyr"
      },
      "execution_count": null,
      "outputs": []
    }
  ]
}